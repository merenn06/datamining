{
 "cells": [
  {
   "cell_type": "code",
   "execution_count": null,
   "id": "15d1727d-9f7c-4a25-9c57-1952d33330fe",
   "metadata": {},
   "outputs": [],
   "source": []
  }
 ],
 "metadata": {
  "kernelspec": {
   "display_name": "",
   "name": ""
  },
  "language_info": {
   "name": ""
  }
 },
 "nbformat": 4,
 "nbformat_minor": 5
}
