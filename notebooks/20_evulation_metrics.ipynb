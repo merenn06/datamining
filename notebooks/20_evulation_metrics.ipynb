{
 "cells": [
  {
   "cell_type": "code",
   "execution_count": 1,
   "id": "688c7eb6-0f1d-4173-9dac-653a2b72aca5",
   "metadata": {},
   "outputs": [
    {
     "name": "stdout",
     "output_type": "stream",
     "text": [
      "Cross-Validation Accuracy Scores: [0.92222222 0.87222222 0.94150418 0.94150418 0.89693593]\n",
      "Mean Accuracy: 0.9148777468276075\n",
      "   Fold  Accuracy\n",
      "0     1  0.922222\n",
      "1     2  0.872222\n",
      "2     3  0.941504\n",
      "3     4  0.941504\n",
      "4     5  0.896936\n"
     ]
    }
   ],
   "source": [
    "import numpy as np\n",
    "from sklearn.datasets import load_digits\n",
    "from sklearn.model_selection import cross_val_score\n",
    "from sklearn.linear_model import LogisticRegression\n",
    "import pandas as pd\n",
    "\n",
    "# Load dataset\n",
    "digits = load_digits()\n",
    "X = digits.data\n",
    "y = digits.target\n",
    "\n",
    "# Define model\n",
    "model = LogisticRegression(max_iter=1000)\n",
    "\n",
    "# Apply 5-fold cross-validation\n",
    "scores = cross_val_score(model, X, y, cv=5, scoring='accuracy')\n",
    "\n",
    "# Print results\n",
    "print(\"Cross-Validation Accuracy Scores:\", scores)\n",
    "print(\"Mean Accuracy:\", np.mean(scores))\n",
    "\n",
    "# Optional: Display results as DataFrame\n",
    "df = pd.DataFrame({'Fold': list(range(1, 6)), 'Accuracy': scores})\n",
    "print(df)\n"
   ]
  },
  {
   "cell_type": "markdown",
   "id": "e395f10e-07b9-45d1-9863-849574be89eb",
   "metadata": {},
   "source": [
    "### Topic 20 – Cross-Validation\n",
    "\n",
    "In this notebook, we apply **K-Fold Cross-Validation** (with `k=5`) to evaluate the performance of a model.\n",
    "\n",
    "Steps:\n",
    "1. Loaded the `digits` dataset from `sklearn.datasets`.\n",
    "2. Defined a `LogisticRegression` model.\n",
    "3. Used `cross_val_score()` with 5 folds and accuracy as the scoring metric.\n",
    "\n",
    "Cross-validation helps by:\n",
    "- Providing a more reliable estimate of model performance,\n",
    "- Reducing the risk of overfitting to a single train/test split,\n",
    "- Making better use of available data.\n",
    "\n",
    "We reported:\n",
    "- The accuracy for each fold,\n",
    "- The mean accuracy across all folds.\n"
   ]
  }
 ],
 "metadata": {
  "kernelspec": {
   "display_name": "Python 3 (ipykernel)",
   "language": "python",
   "name": "python3"
  },
  "language_info": {
   "codemirror_mode": {
    "name": "ipython",
    "version": 3
   },
   "file_extension": ".py",
   "mimetype": "text/x-python",
   "name": "python",
   "nbconvert_exporter": "python",
   "pygments_lexer": "ipython3",
   "version": "3.9.6"
  }
 },
 "nbformat": 4,
 "nbformat_minor": 5
}
