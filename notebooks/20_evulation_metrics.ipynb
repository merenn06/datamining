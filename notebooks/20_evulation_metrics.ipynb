{
 "cells": [
  {
   "cell_type": "code",
   "execution_count": 1,
   "id": "688c7eb6-0f1d-4173-9dac-653a2b72aca5",
   "metadata": {},
   "outputs": [
    {
     "name": "stdout",
     "output_type": "stream",
     "text": [
      "Accuracy: 0.9777777777777777\n",
      "Precision: 0.9722222222222222\n",
      "Recall: 0.9814814814814815\n",
      "F1 Score: 0.975983436853002\n"
     ]
    }
   ],
   "source": [
    "from sklearn.metrics import accuracy_score, precision_score, recall_score, f1_score\n",
    "from sklearn.datasets import load_iris\n",
    "from sklearn.model_selection import train_test_split\n",
    "from sklearn.tree import DecisionTreeClassifier\n",
    "\n",
    "# Load dataset\n",
    "X, y = load_iris(return_X_y=True)\n",
    "\n",
    "# Split into train/test sets\n",
    "X_train, X_test, y_train, y_test = train_test_split(X, y, test_size=0.3, random_state=0)\n",
    "\n",
    "# Train a classifier\n",
    "model = DecisionTreeClassifier()\n",
    "model.fit(X_train, y_train)\n",
    "\n",
    "# Make predictions\n",
    "y_pred = model.predict(X_test)\n",
    "\n",
    "# Evaluation metrics\n",
    "print(\"Accuracy:\", accuracy_score(y_test, y_pred))\n",
    "print(\"Precision:\", precision_score(y_test, y_pred, average='macro'))\n",
    "print(\"Recall:\", recall_score(y_test, y_pred, average='macro'))\n",
    "print(\"F1 Score:\", f1_score(y_test, y_pred, average='macro'))"
   ]
  },
  {
   "cell_type": "markdown",
   "id": "e395f10e-07b9-45d1-9863-849574be89eb",
   "metadata": {},
   "source": [
    "## Topic 20 – Evaluation Metrics\n",
    "\n",
    "Evaluation metrics are used to assess the performance of classification models. The most commonly used metrics include:\n",
    "\n",
    "- **Accuracy**: Overall, how often the classifier is correct.\n",
    "- **Precision**: How many selected items are relevant.\n",
    "- **Recall**: How many relevant items are selected.\n",
    "- **F1 Score**: Harmonic mean of precision and recall.\n",
    "\n",
    "### 🔹 Dataset:\n",
    "- Iris dataset from `sklearn.datasets`\n",
    "\n",
    "### 🔹 Implementation:\n",
    "- Model: `DecisionTreeClassifier`\n",
    "- Metrics: `accuracy_score`, `precision_score`, `recall_score`, `f1_score`\n",
    "\n",
    "### 🔹 Average Type:\n",
    "- `macro`: calculates metric independently for each class and takes the average.\n"
   ]
  }
 ],
 "metadata": {
  "kernelspec": {
   "display_name": "venv",
   "language": "python",
   "name": "python3"
  },
  "language_info": {
   "codemirror_mode": {
    "name": "ipython",
    "version": 3
   },
   "file_extension": ".py",
   "mimetype": "text/x-python",
   "name": "python",
   "nbconvert_exporter": "python",
   "pygments_lexer": "ipython3",
   "version": "3.9.6"
  }
 },
 "nbformat": 4,
 "nbformat_minor": 5
}
