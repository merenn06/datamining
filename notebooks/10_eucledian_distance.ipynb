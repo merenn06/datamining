{
 "cells": [
  {
   "cell_type": "code",
   "execution_count": 1,
   "id": "5c27fdf2-84c2-4028-9e9a-593bd2f44e19",
   "metadata": {},
   "outputs": [
    {
     "name": "stdout",
     "output_type": "stream",
     "text": [
      "Euclidean Distance: 4.69041575982343\n"
     ]
    }
   ],
   "source": [
    "import numpy as np\n",
    "from scipy.spatial import distance\n",
    "\n",
    "# Sample data points\n",
    "point1 = np.array([2, 4, 5])\n",
    "point2 = np.array([5, 1, 7])\n",
    "\n",
    "# Calculate Euclidean Distance\n",
    "euclidean_dist = distance.euclidean(point1, point2)\n",
    "\n",
    "# Print the result\n",
    "print(\"Euclidean Distance:\", euclidean_dist)\n"
   ]
  },
  {
   "cell_type": "markdown",
   "id": "5be9d87e-90af-4ae0-9c39-6593fa9701ac",
   "metadata": {},
   "source": [
    "## Topic 10 – Euclidean Distance\n",
    "\n",
    "Euclidean distance is the most commonly used method for measuring the straight-line distance between two points in Euclidean space.\n",
    "\n",
    "### 🔹 Formula:\n",
    "\\[\n",
    "D(x, y) = \\sqrt{(x_1 - y_1)^2 + (x_2 - y_2)^2 + \\dots + (x_n - y_n)^2}\n",
    "\\]\n",
    "\n",
    "It is a special case of the Minkowski distance where \\( p = 2 \\).\n",
    "\n",
    "### 🔹 Python Example:\n",
    "We calculate the Euclidean distance between two 3-dimensional points using `scipy.spatial.distance.euclidean()`.\n",
    "\n",
    "### 🔹 Output:\n",
    "The Euclidean distance represents the shortest distance between the two points in space.\n"
   ]
  }
 ],
 "metadata": {
  "kernelspec": {
   "display_name": "venv",
   "language": "python",
   "name": "python3"
  },
  "language_info": {
   "codemirror_mode": {
    "name": "ipython",
    "version": 3
   },
   "file_extension": ".py",
   "mimetype": "text/x-python",
   "name": "python",
   "nbconvert_exporter": "python",
   "pygments_lexer": "ipython3",
   "version": "3.9.6"
  }
 },
 "nbformat": 4,
 "nbformat_minor": 5
}
