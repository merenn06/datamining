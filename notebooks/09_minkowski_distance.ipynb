{
 "cells": [
  {
   "cell_type": "code",
   "execution_count": 1,
   "id": "d7ecce08-b948-4109-926c-b0d5af8036c0",
   "metadata": {},
   "outputs": [
    {
     "name": "stdout",
     "output_type": "stream",
     "text": [
      "Minkowski Distance (p=1): 8.0\n",
      "Minkowski Distance (p=2): 4.69041575982343\n",
      "Minkowski Distance (p=3): 3.9578916096804053\n"
     ]
    }
   ],
   "source": [
    "import numpy as np\n",
    "from scipy.spatial import distance\n",
    "\n",
    "# Sample data points\n",
    "point1 = np.array([2, 4, 5])\n",
    "point2 = np.array([5, 1, 7])\n",
    "\n",
    "# p-values to test different norms\n",
    "p_values = [1, 2, 3]\n",
    "\n",
    "# Calculate Minkowski distances\n",
    "for p in p_values:\n",
    "    minkowski_dist = distance.minkowski(point1, point2, p)\n",
    "    print(f\"Minkowski Distance (p={p}):\", minkowski_dist)\n"
   ]
  },
  {
   "cell_type": "markdown",
   "id": "f73315b9-2b1e-42b7-a9b2-0694e303fcb7",
   "metadata": {},
   "source": [
    "## Topic 9 – Minkowski Distance\n",
    "\n",
    "Minkowski distance is a generalization of both the Manhattan and Euclidean distances. It is defined with a parameter \\( p \\), which determines the type of norm used.\n",
    "\n",
    "**Formula:**\n",
    "\n",
    "\\[\n",
    "D(x, y) = \\\\left(\\\\sum_{i=1}^{n} |x_i - y_i|^p \\\\right)^{1/p}\n",
    "\\]\n",
    "\n",
    "- If \\( p = 1 \\): Manhattan Distance  \n",
    "- If \\( p = 2 \\): Euclidean Distance  \n",
    "- Larger \\( p \\) values increase the weight of larger differences.\n",
    "\n",
    "### Sample Calculation:\n",
    "We compute the Minkowski distance between two points for \\( p = 1, 2, 3 \\) using `scipy.spatial.distance.minkowski`.\n"
   ]
  }
 ],
 "metadata": {
  "kernelspec": {
   "display_name": "venv",
   "language": "python",
   "name": "python3"
  },
  "language_info": {
   "codemirror_mode": {
    "name": "ipython",
    "version": 3
   },
   "file_extension": ".py",
   "mimetype": "text/x-python",
   "name": "python",
   "nbconvert_exporter": "python",
   "pygments_lexer": "ipython3",
   "version": "3.9.6"
  }
 },
 "nbformat": 4,
 "nbformat_minor": 5
}
