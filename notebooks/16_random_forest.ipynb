{
 "cells": [
  {
   "cell_type": "code",
   "execution_count": 1,
   "id": "b11fb73a-c923-4aee-9158-ccefb99fa575",
   "metadata": {},
   "outputs": [
    {
     "name": "stdout",
     "output_type": "stream",
     "text": [
      "Accuracy: 1.00\n",
      "              precision    recall  f1-score   support\n",
      "\n",
      "     class_0       1.00      1.00      1.00        19\n",
      "     class_1       1.00      1.00      1.00        21\n",
      "     class_2       1.00      1.00      1.00        14\n",
      "\n",
      "    accuracy                           1.00        54\n",
      "   macro avg       1.00      1.00      1.00        54\n",
      "weighted avg       1.00      1.00      1.00        54\n",
      "\n"
     ]
    }
   ],
   "source": [
    "import numpy as np\n",
    "import pandas as pd\n",
    "import matplotlib.pyplot as plt\n",
    "from sklearn.datasets import load_wine\n",
    "from sklearn.ensemble import RandomForestClassifier\n",
    "from sklearn.model_selection import train_test_split\n",
    "from sklearn.metrics import accuracy_score, classification_report\n",
    "\n",
    "# Load dataset\n",
    "wine = load_wine()\n",
    "X = wine.data\n",
    "y = wine.target\n",
    "\n",
    "# Train-test split\n",
    "X_train, X_test, y_train, y_test = train_test_split(X, y, test_size=0.3, random_state=42)\n",
    "\n",
    "# Train model\n",
    "rf = RandomForestClassifier(n_estimators=100, random_state=42)\n",
    "rf.fit(X_train, y_train)\n",
    "\n",
    "# Predict\n",
    "y_pred = rf.predict(X_test)\n",
    "\n",
    "# Accuracy\n",
    "acc = accuracy_score(y_test, y_pred)\n",
    "print(f\"Accuracy: {acc:.2f}\")\n",
    "\n",
    "# Classification report\n",
    "print(classification_report(y_test, y_pred, target_names=wine.target_names))\n"
   ]
  },
  {
   "cell_type": "markdown",
   "id": "41e12345-5112-45d5-b405-e6ad2ab87bee",
   "metadata": {},
   "source": [
    "### Topic 16 – Random Forest Classification\n",
    "\n",
    "In this notebook, we use a **Random Forest** classifier to predict wine categories from the Wine dataset.\n",
    "\n",
    "Steps:\n",
    "1. Loaded the Wine dataset from `sklearn.datasets`.\n",
    "2. Split the data into training and test sets.\n",
    "3. Trained a `RandomForestClassifier` with 100 trees.\n",
    "4. Evaluated performance with accuracy and classification report.\n",
    "\n",
    "Advantages of Random Forest:\n",
    "- Handles high-dimensional data well,\n",
    "- More robust to overfitting than a single decision tree,\n",
    "- Can handle missing values and imbalanced data.\n",
    "\n",
    "Common applications:\n",
    "- Credit scoring,\n",
    "- Medical diagnosis,\n",
    "- Feature ranking and selection.\n"
   ]
  }
 ],
 "metadata": {
  "kernelspec": {
   "display_name": "Python 3 (ipykernel)",
   "language": "python",
   "name": "python3"
  },
  "language_info": {
   "codemirror_mode": {
    "name": "ipython",
    "version": 3
   },
   "file_extension": ".py",
   "mimetype": "text/x-python",
   "name": "python",
   "nbconvert_exporter": "python",
   "pygments_lexer": "ipython3",
   "version": "3.9.6"
  }
 },
 "nbformat": 4,
 "nbformat_minor": 5
}
