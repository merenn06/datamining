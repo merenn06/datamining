{
 "cells": [
  {
   "cell_type": "code",
   "execution_count": 1,
   "id": "b11fb73a-c923-4aee-9158-ccefb99fa575",
   "metadata": {},
   "outputs": [
    {
     "name": "stdout",
     "output_type": "stream",
     "text": [
      "Covariance Matrix:\n",
      "[[0.80333333 2.26666667]\n",
      " [2.26666667 6.66666667]]\n"
     ]
    }
   ],
   "source": [
    "import numpy as np\n",
    "\n",
    "# Sample multidimensional data\n",
    "X = np.array([[2.1, 2.5, 3.6, 4.0],\n",
    "              [8.0, 10.0, 12.0, 14.0]])\n",
    "\n",
    "# Calculate Covariance Matrix\n",
    "cov_matrix = np.cov(X)\n",
    "\n",
    "# Print the result\n",
    "print(\"Covariance Matrix:\")\n",
    "print(cov_matrix)\n"
   ]
  },
  {
   "cell_type": "markdown",
   "id": "41e12345-5112-45d5-b405-e6ad2ab87bee",
   "metadata": {},
   "source": [
    "## Topic 16 – Covariance Matrix (Extended Co-Variance Concept)\n",
    "\n",
    "The covariance matrix is a square matrix that shows the covariance between each pair of variables in a dataset. It generalizes the simple two-variable covariance to higher dimensions.\n",
    "\n",
    "### 🔹 Python Example:\n",
    "We use `np.cov()` to compute the covariance matrix for a dataset where each row represents a variable.\n",
    "\n",
    "### 🔹 Output:\n",
    "- A symmetric matrix where the diagonal shows variances and off-diagonal shows covariances.\n",
    "- Helps to understand relationships across multiple variables.\n"
   ]
  }
 ],
 "metadata": {
  "kernelspec": {
   "display_name": "venv",
   "language": "python",
   "name": "python3"
  },
  "language_info": {
   "codemirror_mode": {
    "name": "ipython",
    "version": 3
   },
   "file_extension": ".py",
   "mimetype": "text/x-python",
   "name": "python",
   "nbconvert_exporter": "python",
   "pygments_lexer": "ipython3",
   "version": "3.9.6"
  }
 },
 "nbformat": 4,
 "nbformat_minor": 5
}
