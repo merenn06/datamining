{
 "cells": [
  {
   "cell_type": "code",
   "execution_count": 1,
   "id": "d1363f1c-d030-4113-bd0e-ff96068da6b1",
   "metadata": {},
   "outputs": [
    {
     "name": "stdout",
     "output_type": "stream",
     "text": [
      "Manhattan Distance: 8\n"
     ]
    }
   ],
   "source": [
    "import numpy as np\n",
    "from scipy.spatial import distance\n",
    "\n",
    "# Sample data points\n",
    "point1 = np.array([2, 4, 5])\n",
    "point2 = np.array([5, 1, 7])\n",
    "\n",
    "# Calculate Manhattan Distance\n",
    "manhattan_dist = distance.cityblock(point1, point2)\n",
    "\n",
    "# Print the result\n",
    "print(\"Manhattan Distance:\", manhattan_dist)\n"
   ]
  },
  {
   "cell_type": "markdown",
   "id": "c6d5195e-dce5-4689-8a48-3fece5d09a8e",
   "metadata": {},
   "source": [
    "## Topic 11 – Manhattan Distance\n",
    "\n",
    "The Manhattan Distance (also known as City Block Distance or L1 norm) calculates the total absolute difference between coordinates of two points.\n",
    "\n",
    "### 🔹 Formula:\n",
    "\\[\n",
    "D(x, y) = \\sum_{i=1}^{n} |x_i - y_i|\n",
    "\\]\n",
    "\n",
    "It is a special case of Minkowski Distance with \\( p = 1 \\).\n",
    "\n",
    "### 🔹 Python Example:\n",
    "We use `scipy.spatial.distance.cityblock()` to compute the Manhattan distance between two 3D points.\n",
    "\n",
    "### 🔹 Output:\n",
    "The Manhattan distance gives the total number of steps taken along axes-aligned directions.\n"
   ]
  }
 ],
 "metadata": {
  "kernelspec": {
   "display_name": "venv",
   "language": "python",
   "name": "python3"
  },
  "language_info": {
   "codemirror_mode": {
    "name": "ipython",
    "version": 3
   },
   "file_extension": ".py",
   "mimetype": "text/x-python",
   "name": "python",
   "nbconvert_exporter": "python",
   "pygments_lexer": "ipython3",
   "version": "3.9.6"
  }
 },
 "nbformat": 4,
 "nbformat_minor": 5
}
