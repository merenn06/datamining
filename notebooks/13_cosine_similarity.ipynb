{
 "cells": [
  {
   "cell_type": "code",
   "execution_count": 1,
   "id": "da99e8f3-8746-4fb5-8178-73440aa0ea4d",
   "metadata": {},
   "outputs": [
    {
     "name": "stdout",
     "output_type": "stream",
     "text": [
      "Cosine Similarity: 0.843449706507393\n"
     ]
    }
   ],
   "source": [
    "import numpy as np\n",
    "from scipy.spatial import distance\n",
    "\n",
    "# Sample data vectors\n",
    "vector1 = np.array([2, 4, 5])\n",
    "vector2 = np.array([5, 1, 7])\n",
    "\n",
    "# Calculate Cosine Similarity\n",
    "cosine_sim = 1 - distance.cosine(vector1, vector2)\n",
    "\n",
    "# Print the result\n",
    "print(\"Cosine Similarity:\", cosine_sim)\n"
   ]
  },
  {
   "cell_type": "markdown",
   "id": "2fc480f2-bc27-4842-ac0d-70b66733f170",
   "metadata": {},
   "source": [
    "## Topic 13 – Cosine Similarity\n",
    "\n",
    "Cosine similarity measures the cosine of the angle between two non-zero vectors. It is commonly used to compare text data or feature vectors in high-dimensional space.\n",
    "\n",
    "### 🔹 Formula:\n",
    "\\[\n",
    "\\text{Cosine Similarity} = \\frac{A \\\\cdot B}{||A|| \\\\times ||B||}\n",
    "\\]\n",
    "\n",
    "Where:\n",
    "- \\( A \\\\cdot B \\): Dot product of vectors A and B\n",
    "- \\( ||A|| \\) and \\( ||B|| \\): Euclidean norms of vectors A and B\n",
    "\n",
    "### 🔹 Python Example:\n",
    "We calculate cosine similarity using `scipy.spatial.distance.cosine()`. Since this function returns cosine distance, we subtract from 1 to obtain similarity.\n",
    "\n",
    "### 🔹 Output:\n",
    "A similarity score between 0 and 1, where 1 indicates that the vectors are in the same direction.\n"
   ]
  }
 ],
 "metadata": {
  "kernelspec": {
   "display_name": "venv",
   "language": "python",
   "name": "python3"
  },
  "language_info": {
   "codemirror_mode": {
    "name": "ipython",
    "version": 3
   },
   "file_extension": ".py",
   "mimetype": "text/x-python",
   "name": "python",
   "nbconvert_exporter": "python",
   "pygments_lexer": "ipython3",
   "version": "3.9.6"
  }
 },
 "nbformat": 4,
 "nbformat_minor": 5
}
