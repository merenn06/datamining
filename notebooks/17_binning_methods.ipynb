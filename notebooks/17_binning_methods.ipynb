{
 "cells": [
  {
   "cell_type": "code",
   "execution_count": 1,
   "id": "f7e4f121-5116-487d-9355-cbe887d52c63",
   "metadata": {},
   "outputs": [
    {
     "name": "stdout",
     "output_type": "stream",
     "text": [
      "   Value equal_width equal_freq\n",
      "0      4         Low        Low\n",
      "1      8         Low        Low\n",
      "2     15         Low     Medium\n",
      "3     16         Low     Medium\n",
      "4     23      Medium       High\n",
      "5     42        High       High\n"
     ]
    }
   ],
   "source": [
    "import pandas as pd\n",
    "import numpy as np\n",
    "\n",
    "# Sample data\n",
    "data = [4, 8, 15, 16, 23, 42]\n",
    "\n",
    "# Convert to DataFrame\n",
    "df = pd.DataFrame(data, columns=['Value'])\n",
    "\n",
    "# Equal-width binning (3 bins)\n",
    "df['equal_width'] = pd.cut(df['Value'], bins=3, labels=[\"Low\", \"Medium\", \"High\"])\n",
    "\n",
    "# Equal-frequency binning (3 bins)\n",
    "df['equal_freq'] = pd.qcut(df['Value'], q=3, labels=[\"Low\", \"Medium\", \"High\"])\n",
    "\n",
    "# Print the result\n",
    "print(df)\n"
   ]
  },
  {
   "cell_type": "markdown",
   "id": "a33250f8-8979-4cf4-8423-922c31007b58",
   "metadata": {},
   "source": [
    "## Topic 17 – Binning Methods for Data Smoothing\n",
    "\n",
    "Binning is used to smooth out noisy data or discretize continuous attributes. It groups continuous values into discrete bins.\n",
    "\n",
    "### 🔹 Methods Implemented:\n",
    "- **Equal-Width Binning**: Divides the range into equal-width intervals.\n",
    "- **Equal-Frequency Binning**: Divides the data such that each bin has (approximately) the same number of records.\n",
    "\n",
    "### 🔹 Python Functions Used:\n",
    "- `pd.cut()` for equal-width binning\n",
    "- `pd.qcut()` for equal-frequency binning\n",
    "\n",
    "### 🔹 Output:\n",
    "Data is categorized into \\\"Low\\\", \\\"Medium\\\", and \\\"High\\\" bins using both methods for comparison.\n"
   ]
  }
 ],
 "metadata": {
  "kernelspec": {
   "display_name": "venv",
   "language": "python",
   "name": "python3"
  },
  "language_info": {
   "codemirror_mode": {
    "name": "ipython",
    "version": 3
   },
   "file_extension": ".py",
   "mimetype": "text/x-python",
   "name": "python",
   "nbconvert_exporter": "python",
   "pygments_lexer": "ipython3",
   "version": "3.9.6"
  }
 },
 "nbformat": 4,
 "nbformat_minor": 5
}
