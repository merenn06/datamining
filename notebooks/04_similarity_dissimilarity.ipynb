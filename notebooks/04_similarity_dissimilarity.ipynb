{
 "cells": [
  {
   "cell_type": "code",
   "execution_count": 1,
   "id": "69880076-e6eb-4afa-bd6b-65563081b3c5",
   "metadata": {},
   "outputs": [
    {
     "name": "stdout",
     "output_type": "stream",
     "text": [
      "Vector A: [1 2 3]\n",
      "Vector B: [4 5 6]\n",
      "Euclidean Distance: 5.1962\n",
      "Manhattan Distance: 9\n",
      "Cosine Similarity: 0.9746\n"
     ]
    }
   ],
   "source": [
    "import numpy as np\n",
    "from scipy.spatial.distance import euclidean, cityblock\n",
    "from sklearn.metrics.pairwise import cosine_similarity\n",
    "\n",
    "# Define two sample vectors\n",
    "A = np.array([1, 2, 3])\n",
    "B = np.array([4, 5, 6])\n",
    "\n",
    "# Euclidean Distance\n",
    "euc = euclidean(A, B)\n",
    "\n",
    "# Manhattan Distance\n",
    "man = cityblock(A, B)\n",
    "\n",
    "# Cosine Similarity\n",
    "cos_sim = cosine_similarity([A], [B])[0][0]\n",
    "\n",
    "# Print results\n",
    "print(f\"Vector A: {A}\")\n",
    "print(f\"Vector B: {B}\")\n",
    "print(f\"Euclidean Distance: {euc:.4f}\")\n",
    "print(f\"Manhattan Distance: {man}\")\n",
    "print(f\"Cosine Similarity: {cos_sim:.4f}\")\n"
   ]
  },
  {
   "cell_type": "markdown",
   "id": "be155de5-49a7-40b2-96ae-1a17b579c659",
   "metadata": {},
   "source": [
    "### Topic 4 – Similarity and Dissimilarity\n",
    "\n",
    "In this notebook, we compare two vectors using three popular measures:\n",
    "\n",
    "- **Euclidean Distance**: measures the straight-line distance between two points in space.\n",
    "- **Manhattan Distance**: the sum of absolute differences across dimensions (also known as City Block distance).\n",
    "- **Cosine Similarity**: measures the cosine of the angle between two vectors, indicating orientation similarity.\n",
    "\n",
    "We used:\n",
    "- `scipy.spatial.distance.euclidean()` for Euclidean Distance,\n",
    "- `scipy.spatial.distance.cityblock()` for Manhattan Distance,\n",
    "- `sklearn.metrics.pairwise.cosine_similarity()` for Cosine Similarity.\n",
    "\n",
    "These metrics are fundamental in machine learning, clustering, and information retrieval.\n"
   ]
  }
 ],
 "metadata": {
  "kernelspec": {
   "display_name": "Python 3 (ipykernel)",
   "language": "python",
   "name": "python3"
  },
  "language_info": {
   "codemirror_mode": {
    "name": "ipython",
    "version": 3
   },
   "file_extension": ".py",
   "mimetype": "text/x-python",
   "name": "python",
   "nbconvert_exporter": "python",
   "pygments_lexer": "ipython3",
   "version": "3.9.6"
  }
 },
 "nbformat": 4,
 "nbformat_minor": 5
}
