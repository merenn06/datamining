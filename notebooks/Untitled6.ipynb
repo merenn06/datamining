{
 "cells": [
  {
   "cell_type": "code",
   "execution_count": 1,
   "id": "fae2485d-4e65-4279-97a4-3699a223a1e7",
   "metadata": {},
   "outputs": [
    {
     "name": "stdout",
     "output_type": "stream",
     "text": [
      "   Color  Label Encoded  Color_Blue  Color_Green  Color_Red\n",
      "0    Red              2       False        False       True\n",
      "1  Green              1       False         True      False\n",
      "2   Blue              0        True        False      False\n",
      "3  Green              1       False         True      False\n",
      "4    Red              2       False        False       True\n",
      "5   Blue              0        True        False      False\n"
     ]
    }
   ],
   "source": [
    "import pandas as pd\n",
    "from sklearn.preprocessing import LabelEncoder\n",
    "\n",
    "# Sample categorical data\n",
    "df = pd.DataFrame({\n",
    "    \"Color\": [\"Red\", \"Green\", \"Blue\", \"Green\", \"Red\", \"Blue\"]\n",
    "})\n",
    "\n",
    "# Label Encoding\n",
    "le = LabelEncoder()\n",
    "df[\"Label Encoded\"] = le.fit_transform(df[\"Color\"])\n",
    "\n",
    "# One-Hot Encoding\n",
    "one_hot = pd.get_dummies(df[\"Color\"], prefix=\"Color\")\n",
    "df = pd.concat([df, one_hot], axis=1)\n",
    "\n",
    "# Show result\n",
    "print(df)\n"
   ]
  },
  {
   "cell_type": "markdown",
   "id": "8358f246-947a-4406-b2bf-c8b4875bac07",
   "metadata": {},
   "source": [
    "### Topic 7 – Data Encoding (Label & One-Hot Encoding)\n",
    "\n",
    "In this notebook, we encode categorical values using two popular methods:\n",
    "\n",
    "- **Label Encoding**: assigns a unique integer to each category.\n",
    "- **One-Hot Encoding**: creates separate binary columns for each category.\n",
    "\n",
    "We used:\n",
    "- `sklearn.preprocessing.LabelEncoder` for label encoding,\n",
    "- `pandas.get_dummies()` for one-hot encoding.\n",
    "\n",
    "Encoding is essential for machine learning models that require numerical input.\n"
   ]
  }
 ],
 "metadata": {
  "kernelspec": {
   "display_name": "Python 3 (ipykernel)",
   "language": "python",
   "name": "python3"
  },
  "language_info": {
   "codemirror_mode": {
    "name": "ipython",
    "version": 3
   },
   "file_extension": ".py",
   "mimetype": "text/x-python",
   "name": "python",
   "nbconvert_exporter": "python",
   "pygments_lexer": "ipython3",
   "version": "3.9.6"
  }
 },
 "nbformat": 4,
 "nbformat_minor": 5
}
