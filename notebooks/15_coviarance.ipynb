{
 "cells": [
  {
   "cell_type": "code",
   "execution_count": 1,
   "id": "85c2c0f8-bbcd-4c5b-999a-e3bea26b0d3c",
   "metadata": {},
   "outputs": [
    {
     "name": "stdout",
     "output_type": "stream",
     "text": [
      "Covariance Matrix:\n",
      "[[10. 10.]\n",
      " [10. 10.]]\n",
      "Covariance between x and y: 10.0\n"
     ]
    }
   ],
   "source": [
    "import numpy as np\n",
    "\n",
    "# Sample data\n",
    "x = np.array([2, 4, 6, 8, 10])\n",
    "y = np.array([1, 3, 5, 7, 9])\n",
    "\n",
    "# Calculate Covariance matrix\n",
    "cov_matrix = np.cov(x, y)\n",
    "\n",
    "# Print the result\n",
    "print(\"Covariance Matrix:\")\n",
    "print(cov_matrix)\n",
    "\n",
    "# Extract the covariance value between x and y\n",
    "cov_xy = cov_matrix[0, 1]\n",
    "print(\"Covariance between x and y:\", cov_xy)\n"
   ]
  },
  {
   "cell_type": "markdown",
   "id": "6fe49d36-1c93-4e42-90e3-cfc7e6f7ec23",
   "metadata": {},
   "source": [
    "## Topic 15 – Covariance\n",
    "\n",
    "Covariance measures the degree to which two variables change together. A positive covariance indicates that the variables increase together, while a negative value indicates inverse movement.\n",
    "\n",
    "### 🔹 Formula:\n",
    "\\[\n",
    "\\text{Cov}(X, Y) = \\frac{1}{n-1} \\sum_{i=1}^{n} (x_i - \\bar{x})(y_i - \\bar{y})\n",
    "\\]\n",
    "\n",
    "### 🔹 Python Example:\n",
    "We use `np.cov()` to compute the covariance matrix. The off-diagonal elements represent the covariance between the two variables.\n",
    "\n",
    "### 🔹 Output:\n",
    "- Covariance matrix showing variance and covariance\n",
    "- Covariance value between X and Y\n"
   ]
  }
 ],
 "metadata": {
  "kernelspec": {
   "display_name": "venv",
   "language": "python",
   "name": "python3"
  },
  "language_info": {
   "codemirror_mode": {
    "name": "ipython",
    "version": 3
   },
   "file_extension": ".py",
   "mimetype": "text/x-python",
   "name": "python",
   "nbconvert_exporter": "python",
   "pygments_lexer": "ipython3",
   "version": "3.9.6"
  }
 },
 "nbformat": 4,
 "nbformat_minor": 5
}
