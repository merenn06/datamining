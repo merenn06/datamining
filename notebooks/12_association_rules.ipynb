{
 "cells": [
  {
   "cell_type": "code",
   "execution_count": 2,
   "id": "22c3fcd7-c9a0-4914-b88c-8e69b455a4fc",
   "metadata": {},
   "outputs": [
    {
     "name": "stdout",
     "output_type": "stream",
     "text": [
      "    antecedents consequents   support  confidence   lift\n",
      "0        (eggs)     (bread)  0.500000        0.75  1.125\n",
      "1       (bread)      (eggs)  0.500000        0.75  1.125\n",
      "2        (milk)     (bread)  0.500000        0.75  1.125\n",
      "3       (bread)      (milk)  0.500000        0.75  1.125\n",
      "4  (eggs, milk)     (bread)  0.333333        1.00  1.500\n"
     ]
    }
   ],
   "source": [
    "import pandas as pd\n",
    "from mlxtend.preprocessing import TransactionEncoder\n",
    "from mlxtend.frequent_patterns import apriori, association_rules\n",
    "\n",
    "# Sample dataset: List of transactions\n",
    "transactions = [\n",
    "    ['milk', 'bread', 'eggs'],\n",
    "    ['milk', 'bread'],\n",
    "    ['milk', 'cookies'],\n",
    "    ['bread', 'eggs'],\n",
    "    ['milk', 'bread', 'cookies', 'eggs'],\n",
    "    ['cookies', 'eggs']\n",
    "]\n",
    "\n",
    "# Convert to one-hot encoded DataFrame\n",
    "te = TransactionEncoder()\n",
    "te_array = te.fit(transactions).transform(transactions)\n",
    "df = pd.DataFrame(te_array, columns=te.columns_)\n",
    "\n",
    "# Apply Apriori algorithm\n",
    "frequent_itemsets = apriori(df, min_support=0.3, use_colnames=True)\n",
    "\n",
    "# Generate association rules\n",
    "rules = association_rules(frequent_itemsets, metric=\"confidence\", min_threshold=0.7)\n",
    "\n",
    "# Show rules\n",
    "print(rules[['antecedents', 'consequents', 'support', 'confidence', 'lift']])\n"
   ]
  },
  {
   "cell_type": "markdown",
   "id": "2c32de67-005d-4a32-91ea-8024917eb918",
   "metadata": {},
   "source": [
    "### Topic 12 – Association Rule Mining (Apriori Algorithm)\n",
    "\n",
    "In this notebook, we perform **Association Rule Mining** using the **Apriori algorithm** to discover item combinations that frequently occur together.\n",
    "\n",
    "Steps:\n",
    "1. **Data preparation**: A list of transactions is encoded into a one-hot format using `TransactionEncoder`.\n",
    "2. **Frequent itemset generation**: We apply the Apriori algorithm (`mlxtend.frequent_patterns.apriori`) with a minimum support threshold.\n",
    "3. **Rule generation**: Association rules are generated using `association_rules()` with minimum confidence.\n",
    "\n",
    "Key metrics:\n",
    "- **Support**: How often the itemset appears in all transactions.\n",
    "- **Confidence**: How often the rule has been found to be true.\n",
    "- **Lift**: Measures the strength of a rule over random chance.\n",
    "\n",
    "This technique is widely used in:\n",
    "- Market basket analysis,\n",
    "- Recommendation engines,\n",
    "- Inventory management.\n"
   ]
  }
 ],
 "metadata": {
  "kernelspec": {
   "display_name": "Python 3 (ipykernel)",
   "language": "python",
   "name": "python3"
  },
  "language_info": {
   "codemirror_mode": {
    "name": "ipython",
    "version": 3
   },
   "file_extension": ".py",
   "mimetype": "text/x-python",
   "name": "python",
   "nbconvert_exporter": "python",
   "pygments_lexer": "ipython3",
   "version": "3.9.6"
  }
 },
 "nbformat": 4,
 "nbformat_minor": 5
}
