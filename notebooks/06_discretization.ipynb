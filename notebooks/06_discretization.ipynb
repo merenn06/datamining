{
 "cells": [
  {
   "cell_type": "code",
   "execution_count": 1,
   "id": "22ff5da1-f9b8-4617-a7e1-139bb95fe289",
   "metadata": {},
   "outputs": [
    {
     "name": "stdout",
     "output_type": "stream",
     "text": [
      "   Age Age Binned\n",
      "0   12      Child\n",
      "1   17      Child\n",
      "2   24      Adult\n",
      "3   36      Adult\n",
      "4   45      Adult\n",
      "5   52      Adult\n",
      "6   63     Senior\n",
      "7   75     Senior\n",
      "8   83     Senior\n",
      "9   90     Senior\n"
     ]
    }
   ],
   "source": [
    "import pandas as pd\n",
    "import numpy as np\n",
    "\n",
    "# Sample continuous data\n",
    "data = pd.DataFrame({\"Age\": [12, 17, 24, 36, 45, 52, 63, 75, 83, 90]})\n",
    "\n",
    "# Discretization using fixed bins\n",
    "data[\"Age Binned\"] = pd.cut(data[\"Age\"], bins=[0, 18, 60, 100], labels=[\"Child\", \"Adult\", \"Senior\"])\n",
    "\n",
    "# Show result\n",
    "print(data)\n"
   ]
  },
  {
   "cell_type": "markdown",
   "id": "66d59c46-c5aa-42b2-95de-e59a5c99145b",
   "metadata": {},
   "source": [
    "### Topic 6 – Data Discretization\n",
    "\n",
    "In this notebook, we perform **data discretization** by converting continuous values into categorical bins.\n",
    "\n",
    "We use `pandas.cut()` to divide the “Age” column into three categories:\n",
    "- `Child`: Ages 0–18\n",
    "- `Adult`: Ages 18–60\n",
    "- `Senior`: Ages 60–100\n",
    "\n",
    "Discretization is useful for:\n",
    "- Reducing model complexity,\n",
    "- Enabling algorithms that require categorical input,\n",
    "- Making data easier to interpret.\n",
    "\n",
    "This technique is often used in decision trees and Naive Bayes classifiers.\n"
   ]
  }
 ],
 "metadata": {
  "kernelspec": {
   "display_name": "Python 3 (ipykernel)",
   "language": "python",
   "name": "python3"
  },
  "language_info": {
   "codemirror_mode": {
    "name": "ipython",
    "version": 3
   },
   "file_extension": ".py",
   "mimetype": "text/x-python",
   "name": "python",
   "nbconvert_exporter": "python",
   "pygments_lexer": "ipython3",
   "version": "3.9.6"
  }
 },
 "nbformat": 4,
 "nbformat_minor": 5
}
