{
 "cells": [
  {
   "cell_type": "code",
   "execution_count": 1,
   "id": "5fe4ca17-18d8-4089-90ea-63fb0e7ab0ee",
   "metadata": {},
   "outputs": [
    {
     "name": "stdout",
     "output_type": "stream",
     "text": [
      "Data: [12 15 13 12 17 15 19 21 18 15]\n",
      "Mean: 15.7\n",
      "Absolute Deviations: [3.7 0.7 2.7 3.7 1.3 0.7 3.3 5.3 2.3 0.7]\n",
      "Mean Absolute Deviation (MAD): 2.44\n"
     ]
    }
   ],
   "source": [
    "import numpy as np\n",
    "\n",
    "# Sample data\n",
    "data = np.array([12, 15, 13, 12, 17, 15, 19, 21, 18, 15])\n",
    "\n",
    "# Calculate mean\n",
    "mean = np.mean(data)\n",
    "\n",
    "# Calculate absolute deviations\n",
    "abs_dev = np.abs(data - mean)\n",
    "\n",
    "# Calculate MAD\n",
    "mad = np.mean(abs_dev)\n",
    "\n",
    "# Print results\n",
    "print(\"Data:\", data)\n",
    "print(\"Mean:\", mean)\n",
    "print(\"Absolute Deviations:\", abs_dev)\n",
    "print(\"Mean Absolute Deviation (MAD):\", mad)\n"
   ]
  },
  {
   "cell_type": "markdown",
   "id": "19dbfee6-5155-4064-a048-869dff70fbe9",
   "metadata": {},
   "source": [
    "### Topic 8 – Mean Absolute Deviation (MAD)\n",
    "\n",
    "In this notebook, we calculate the Mean Absolute Deviation (MAD), which is a measure of dispersion that indicates the average distance between each data point and the mean.\n",
    "\n",
    "#### 🔹 Steps:\n",
    "1. We created a sample dataset of 10 numerical values.\n",
    "2. Used `np.mean()` to calculate the mean of the dataset.\n",
    "3. Calculated the absolute deviations from the mean using `np.abs(data - mean)`.\n",
    "4. Computed the final MAD using `np.mean(abs_dev)`.\n",
    "\n",
    "#### 🔹 Why it's important:\n",
    "- Unlike variance or standard deviation, MAD is less sensitive to outliers.\n",
    "- It provides a simple yet robust measure of variability in data.\n",
    "\n",
    "#### 🔹 Output Summary:\n",
    "- **Mean:** 15.7  \n",
    "- **Absolute Deviations:** [3.7, 0.7, 2.7, 3.7, 1.3, 0.7, 3.3, 5.3, 2.3, 0.7]  \n",
    "- **MAD:** 2.34\n"
   ]
  }
 ],
 "metadata": {
  "kernelspec": {
   "display_name": "venv",
   "language": "python",
   "name": "python3"
  },
  "language_info": {
   "codemirror_mode": {
    "name": "ipython",
    "version": 3
   },
   "file_extension": ".py",
   "mimetype": "text/x-python",
   "name": "python",
   "nbconvert_exporter": "python",
   "pygments_lexer": "ipython3",
   "version": "3.9.6"
  }
 },
 "nbformat": 4,
 "nbformat_minor": 5
}
