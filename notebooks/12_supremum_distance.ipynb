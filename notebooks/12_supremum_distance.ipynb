{
 "cells": [
  {
   "cell_type": "code",
   "execution_count": 1,
   "id": "22c3fcd7-c9a0-4914-b88c-8e69b455a4fc",
   "metadata": {},
   "outputs": [
    {
     "name": "stdout",
     "output_type": "stream",
     "text": [
      "Supremum (Chebyshev) Distance: 3\n"
     ]
    }
   ],
   "source": [
    "import numpy as np\n",
    "from scipy.spatial import distance\n",
    "\n",
    "# Sample data points\n",
    "point1 = np.array([2, 4, 5])\n",
    "point2 = np.array([5, 1, 7])\n",
    "\n",
    "# Calculate Supremum (Chebyshev) Distance\n",
    "supremum_dist = distance.chebyshev(point1, point2)\n",
    "\n",
    "# Print the result\n",
    "print(\"Supremum (Chebyshev) Distance:\", supremum_dist)\n"
   ]
  },
  {
   "cell_type": "markdown",
   "id": "2c32de67-005d-4a32-91ea-8024917eb918",
   "metadata": {},
   "source": [
    "## Topic 12 – Supremum (Chebyshev) Distance\n",
    "\n",
    "The Supremum Distance, also known as Chebyshev Distance or \\( L_{\\infty} \\) norm, measures the maximum absolute difference along any coordinate dimension.\n",
    "\n",
    "### 🔹 Formula:\n",
    "\\[\n",
    "D(x, y) = \\max_{i} |x_i - y_i|\n",
    "\\]\n",
    "\n",
    "This distance is useful in scenarios where only the largest difference matters.\n",
    "\n",
    "### 🔹 Python Example:\n",
    "We use `scipy.spatial.distance.chebyshev()` to compute the Supremum distance between two vectors.\n",
    "\n",
    "### 🔹 Output:\n",
    "The output represents the greatest coordinate-wise difference between the two vectors.\n"
   ]
  }
 ],
 "metadata": {
  "kernelspec": {
   "display_name": "venv",
   "language": "python",
   "name": "python3"
  },
  "language_info": {
   "codemirror_mode": {
    "name": "ipython",
    "version": 3
   },
   "file_extension": ".py",
   "mimetype": "text/x-python",
   "name": "python",
   "nbconvert_exporter": "python",
   "pygments_lexer": "ipython3",
   "version": "3.9.6"
  }
 },
 "nbformat": 4,
 "nbformat_minor": 5
}
