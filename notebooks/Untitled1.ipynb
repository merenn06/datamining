{
 "cells": [
  {
   "cell_type": "code",
   "execution_count": 1,
   "id": "04bb2145-e010-436d-8fcb-820a60ed726b",
   "metadata": {},
   "outputs": [
    {
     "name": "stdout",
     "output_type": "stream",
     "text": [
      "Dataset: [12, 15, 13, 12, 17, 15, 19, 21, 18, 15, 13, 15]\n",
      "Mean: 15.416666666666666\n",
      "Median: 15.0\n",
      "Mode: 15\n"
     ]
    }
   ],
   "source": [
    "import numpy as np\n",
    "import statistics as stats\n",
    "import pandas as pd\n",
    "\n",
    "# Example dataset\n",
    "data = [12, 15, 13, 12, 17, 15, 19, 21, 18, 15, 13, 15]\n",
    "\n",
    "# Mean\n",
    "mean = np.mean(data)\n",
    "\n",
    "# Median\n",
    "median = np.median(data)\n",
    "\n",
    "# Mode\n",
    "mode = stats.mode(data)\n",
    "\n",
    "# Print results\n",
    "print(f\"Dataset: {data}\")\n",
    "print(f\"Mean: {mean}\")\n",
    "print(f\"Median: {median}\")\n",
    "print(f\"Mode: {mode}\")\n"
   ]
  },
  {
   "cell_type": "markdown",
   "id": "70c4ec4a-3439-4e2a-b878-1157c94d33fa",
   "metadata": {},
   "source": [
    "### Topic 1 – Mean, Median, and Mode\n",
    "\n",
    "In this notebook, we compute the three basic measures of central tendency: **mean**, **median**, and **mode**.\n",
    "\n",
    "- `mean`: the average of all values.\n",
    "- `median`: the middle value after sorting.\n",
    "- `mode`: the most frequent value in the dataset.\n",
    "\n",
    "We used:\n",
    "- `numpy.mean()` for mean,\n",
    "- `numpy.median()` for median,\n",
    "- `statistics.mode()` for mode.\n",
    "\n",
    "The dataset used was a simple list of integers representing example scores.\n"
   ]
  },
  {
   "cell_type": "code",
   "execution_count": null,
   "id": "19fba795-5fbf-415f-a3cf-6173e79b5c3b",
   "metadata": {},
   "outputs": [],
   "source": []
  }
 ],
 "metadata": {
  "kernelspec": {
   "display_name": "Python 3 (ipykernel)",
   "language": "python",
   "name": "python3"
  },
  "language_info": {
   "codemirror_mode": {
    "name": "ipython",
    "version": 3
   },
   "file_extension": ".py",
   "mimetype": "text/x-python",
   "name": "python",
   "nbconvert_exporter": "python",
   "pygments_lexer": "ipython3",
   "version": "3.9.6"
  }
 },
 "nbformat": 4,
 "nbformat_minor": 5
}
