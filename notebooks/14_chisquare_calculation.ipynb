{
 "cells": [
  {
   "cell_type": "code",
   "execution_count": 1,
   "id": "1efd260a-7f23-4c61-9f02-1f046022f07a",
   "metadata": {},
   "outputs": [
    {
     "name": "stdout",
     "output_type": "stream",
     "text": [
      "Chi-Square Statistic: 0.27157465150403504\n",
      "p-value: 0.873028283380073\n",
      "Degrees of Freedom: 2\n",
      "Expected Frequencies:\n",
      "[[10.43478261 18.91304348 30.65217391]\n",
      " [ 5.56521739 10.08695652 16.34782609]]\n"
     ]
    }
   ],
   "source": [
    "import numpy as np\n",
    "from scipy.stats import chi2_contingency\n",
    "\n",
    "# Sample contingency table\n",
    "data = np.array([[10, 20, 30],\n",
    "                 [6,  9,  17]])\n",
    "\n",
    "# Perform Chi-Square Test\n",
    "chi2, p, dof, expected = chi2_contingency(data)\n",
    "\n",
    "# Print the results\n",
    "print(\"Chi-Square Statistic:\", chi2)\n",
    "print(\"p-value:\", p)\n",
    "print(\"Degrees of Freedom:\", dof)\n",
    "print(\"Expected Frequencies:\")\n",
    "print(expected)\n"
   ]
  },
  {
   "cell_type": "markdown",
   "id": "0ae78df9-4b08-464e-bb08-bb7e3237dc07",
   "metadata": {},
   "source": [
    "## Topic 14 – Chi-Square Calculation\n",
    "\n",
    "The Chi-Square test is used to determine whether there is a significant association between two categorical variables.\n",
    "\n",
    "### 🔹 Inputs:\n",
    "A contingency table of observed frequencies.\n",
    "\n",
    "### 🔹 Python Function:\n",
    "`scipy.stats.chi2_contingency()` performs the Chi-Square test of independence.\n",
    "\n",
    "### 🔹 Output:\n",
    "- **Chi-Square Statistic**: Measures the difference between observed and expected values.\n",
    "- **p-value**: Used to determine significance.\n",
    "- **Degrees of Freedom**: Based on table size.\n",
    "- **Expected Frequencies**: Theoretical frequencies assuming independence.\n",
    "\n",
    "### 🔹 Use Case:\n",
    "Used in statistical testing to compare categorical distributions.\n"
   ]
  }
 ],
 "metadata": {
  "kernelspec": {
   "display_name": "venv",
   "language": "python",
   "name": "python3"
  },
  "language_info": {
   "codemirror_mode": {
    "name": "ipython",
    "version": 3
   },
   "file_extension": ".py",
   "mimetype": "text/x-python",
   "name": "python",
   "nbconvert_exporter": "python",
   "pygments_lexer": "ipython3",
   "version": "3.9.6"
  }
 },
 "nbformat": 4,
 "nbformat_minor": 5
}
