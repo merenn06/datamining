{
 "cells": [
  {
   "cell_type": "code",
   "execution_count": 1,
   "id": "1c259017-9c18-425f-b14b-dc6ca7bc3862",
   "metadata": {},
   "outputs": [
    {
     "name": "stdout",
     "output_type": "stream",
     "text": [
      "Accuracy: 1.0\n"
     ]
    }
   ],
   "source": [
    "from sklearn.tree import DecisionTreeClassifier\n",
    "from sklearn.datasets import load_iris\n",
    "from sklearn.model_selection import train_test_split\n",
    "from sklearn.metrics import accuracy_score\n",
    "\n",
    "# Load dataset\n",
    "data = load_iris()\n",
    "X = data.data\n",
    "y = data.target\n",
    "\n",
    "# Split into train and test sets\n",
    "X_train, X_test, y_train, y_test = train_test_split(X, y, test_size=0.3, random_state=42)\n",
    "\n",
    "# Train Decision Tree model\n",
    "model = DecisionTreeClassifier()\n",
    "model.fit(X_train, y_train)\n",
    "\n",
    "# Predict and evaluate\n",
    "y_pred = model.predict(X_test)\n",
    "accuracy = accuracy_score(y_test, y_pred)\n",
    "\n",
    "print(\"Accuracy:\", accuracy)\n"
   ]
  },
  {
   "cell_type": "markdown",
   "id": "0b576eff-b078-42f4-b0b7-f5a26b4b91e7",
   "metadata": {},
   "source": [
    "## Topic 18 – Decision Tree Algorithm\n",
    "\n",
    "A decision tree is a supervised learning algorithm used for classification and regression tasks. It splits data based on feature values to build a tree of decisions.\n",
    "\n",
    "### 🔹 Dataset:\n",
    "- Iris dataset from `sklearn.datasets`\n",
    "\n",
    "### 🔹 Steps:\n",
    "1. Data is split into training and testing sets.\n",
    "2. A `DecisionTreeClassifier` is trained.\n",
    "3. The model is used to predict test data.\n",
    "4. Accuracy is measured with `accuracy_score`.\n",
    "\n",
    "### 🔹 Output:\n",
    "- Model prediction accuracy on the test set.\n"
   ]
  }
 ],
 "metadata": {
  "kernelspec": {
   "display_name": "venv",
   "language": "python",
   "name": "python3"
  },
  "language_info": {
   "codemirror_mode": {
    "name": "ipython",
    "version": 3
   },
   "file_extension": ".py",
   "mimetype": "text/x-python",
   "name": "python",
   "nbconvert_exporter": "python",
   "pygments_lexer": "ipython3",
   "version": "3.9.6"
  }
 },
 "nbformat": 4,
 "nbformat_minor": 5
}
