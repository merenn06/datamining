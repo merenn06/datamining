{
 "cells": [
  {
   "cell_type": "code",
   "execution_count": 1,
   "id": "15d1727d-9f7c-4a25-9c57-1952d33330fe",
   "metadata": {},
   "outputs": [
    {
     "name": "stdout",
     "output_type": "stream",
     "text": [
      "   Score  Min-Max Normalized\n",
      "0     12            0.277778\n",
      "1     18            0.611111\n",
      "2     25            1.000000\n",
      "3      7            0.000000\n",
      "4     15            0.444444\n"
     ]
    }
   ],
   "source": [
    "import numpy as np\n",
    "import pandas as pd\n",
    "from sklearn.preprocessing import MinMaxScaler\n",
    "\n",
    "# Original data\n",
    "data = np.array([[12], [18], [25], [7], [15]])\n",
    "df = pd.DataFrame(data, columns=[\"Score\"])\n",
    "\n",
    "# Apply Min-Max Normalization\n",
    "scaler = MinMaxScaler()\n",
    "df[\"Min-Max Normalized\"] = scaler.fit_transform(df[[\"Score\"]])\n",
    "\n",
    "# Print result\n",
    "print(df)\n"
   ]
  },
  {
   "cell_type": "markdown",
   "id": "84aea483-aa34-4657-817b-f9f575b78f9c",
   "metadata": {},
   "source": [
    "### Topic 5 – Min-Max Normalization\n",
    "\n",
    "In this notebook, we perform **Min-Max Normalization** to scale values between **0 and 1**.\n",
    "\n",
    "This technique is used to:\n",
    "- Bring all features to a similar scale,\n",
    "- Improve performance of ML models that are sensitive to feature magnitude.\n",
    "\n",
    "The formula is:\n",
    "\n",
    "\\[\n",
    "X' = \\frac{X - \\text{min}(X)}{\\text{max}(X) - \\text{min}(X)}\n",
    "\\]\n",
    "\n",
    "We used:\n",
    "- `sklearn.preprocessing.MinMaxScaler` to apply it directly.\n",
    "\n",
    "The original values were in different ranges (e.g., 7 to 25), and are now scaled between 0 and 1.\n"
   ]
  }
 ],
 "metadata": {
  "kernelspec": {
   "display_name": "Python 3 (ipykernel)",
   "language": "python",
   "name": "python3"
  },
  "language_info": {
   "codemirror_mode": {
    "name": "ipython",
    "version": 3
   },
   "file_extension": ".py",
   "mimetype": "text/x-python",
   "name": "python",
   "nbconvert_exporter": "python",
   "pygments_lexer": "ipython3",
   "version": "3.9.6"
  }
 },
 "nbformat": 4,
 "nbformat_minor": 5
}
